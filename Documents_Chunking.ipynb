{
 "cells": [
  {
   "cell_type": "code",
   "execution_count": 1,
   "id": "4bc00279",
   "metadata": {},
   "outputs": [],
   "source": [
    "from ParsingPDF import PDFParser"
   ]
  },
  {
   "cell_type": "code",
   "execution_count": 2,
   "id": "dcdbfb02",
   "metadata": {},
   "outputs": [
    {
     "data": {
      "text/plain": [
       "'C:\\\\Users\\\\o_hol\\\\OneDrive\\\\Documentos\\\\Respaldo\\\\PredatorCODECH\\\\DataScience\\\\AI\\\\LLMs\\\\DataAnalytics\\\\cachedir'"
      ]
     },
     "execution_count": 2,
     "metadata": {},
     "output_type": "execute_result"
    }
   ],
   "source": [
    "import os\n",
    "os.path.join(os.getcwd(), 'cachedir')\n"
   ]
  },
  {
   "cell_type": "code",
   "execution_count": 3,
   "id": "eaf7cc1e",
   "metadata": {},
   "outputs": [],
   "source": [
    "path = r\"C:\\Users\\o_hol\\Downloads\\NLP_Final_ACL_2023.pdf\"\n",
    "parser = PDFParser(path,extract_images=True,max_tokens=2000)\n",
    "documents = parser.parse_pdf()"
   ]
  },
  {
   "cell_type": "code",
   "execution_count": null,
   "id": "6c9c0a1e",
   "metadata": {},
   "outputs": [],
   "source": []
  },
  {
   "cell_type": "code",
   "execution_count": 23,
   "id": "bbcb4f40",
   "metadata": {},
   "outputs": [],
   "source": [
    "from transformers import pipeline # For REBEL model\n",
    "\n",
    "import networkx as nx # For graph creation\n",
    "from pyvis.network import Network # For graph visualization\n",
    "# Load the REBEL model\n",
    "cache_dir = os.path.join(os.getcwd(), 'cachedir')\n",
    "\n",
    "rebel = triplet_extractor = pipeline('text2text-generation', model='Babelscape/rebel-large', tokenizer='Babelscape/rebel-large',cache_dir = cache_dir)\n"
   ]
  },
  {
   "cell_type": "code",
   "execution_count": 8,
   "id": "25e3fc25",
   "metadata": {},
   "outputs": [],
   "source": [
    "#REBEL WITH SPACY\n",
    "\n"
   ]
  },
  {
   "cell_type": "code",
   "execution_count": null,
   "id": "bc77ad3a",
   "metadata": {},
   "outputs": [],
   "source": [
    "import spacy\n",
    "import spacy_component\n",
    "\n",
    "nlp = spacy.load(\"en_core_web_sm\")\n",
    "\n",
    "nlp.add_pipe(\"rebel\", after=\"senter\", config={\n",
    "    'device':0, # Number of the GPU, -1 if want to use CPU\n",
    "    'model_name':'Babelscape/rebel-large'} # Model used, will default to 'Babelscape/rebel-large' if not given\n",
    "    )\n",
    "input_sentence = \"Gràcia is a district of the city of Barcelona, Spain. It comprises the neighborhoods of Vila de Gràcia, Vallcarca i els Penitents, El Coll, La Salut and Camp d'en Grassot i Gràcia Nova. Gràcia is bordered by the districts of Eixample to the south, Sarrià-Sant Gervasi to the west and Horta-Guinardó to the east. A vibrant and diverse enclave of Catalan life, Gràcia was an independent municipality for centuries before being formally annexed by Barcelona in 1897 as a part of the city's expansion.\"\n",
    "                 \n",
    "doc = nlp(input_sentence)\n",
    "doc_list = nlp.pipe([input_sentence])\n",
    "for value, rel_dict in doc._.rel.items():\n",
    "    print(f\"{value}: {rel_dict}\")"
   ]
  }
 ],
 "metadata": {
  "kernelspec": {
   "display_name": "Python 3 (ipykernel)",
   "language": "python",
   "name": "python3"
  },
  "language_info": {
   "codemirror_mode": {
    "name": "ipython",
    "version": 3
   },
   "file_extension": ".py",
   "mimetype": "text/x-python",
   "name": "python",
   "nbconvert_exporter": "python",
   "pygments_lexer": "ipython3",
   "version": "3.11.4"
  }
 },
 "nbformat": 4,
 "nbformat_minor": 5
}
