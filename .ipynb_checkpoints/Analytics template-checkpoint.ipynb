{
 "cells": [
  {
   "cell_type": "code",
   "execution_count": null,
   "id": "35253298",
   "metadata": {},
   "outputs": [],
   "source": [
    "pip install dataprep ydata-profiling sweetviz autoviz lux"
   ]
  },
  {
   "cell_type": "code",
   "execution_count": 1,
   "id": "34a7a2c6",
   "metadata": {},
   "outputs": [],
   "source": [
    "#from a pandas dataframe\n",
    "from dataclasses import dataclass"
   ]
  },
  {
   "cell_type": "code",
   "execution_count": null,
   "id": "f1a3cfe1",
   "metadata": {},
   "outputs": [],
   "source": [
    "@dataclass\n",
    "\n",
    "class Analytics:\n",
    "    #df\n",
    "    \n",
    "    def create_profiling_report(self,df,title=\"Data Profile Report\"):\n",
    "        \"\"\"\n",
    "        Create automatic report from pandas dataframe or spark dataframe\n",
    "        \"\"\"\n",
    "        profile = ProfileReport(df,title=title)\n",
    "        profile.to_file(\"report.html\")\n",
    "        return profile\n",
    "        \n",
    "        \n",
    "        \n",
    "    "
   ]
  }
 ],
 "metadata": {
  "kernelspec": {
   "display_name": "Python 3 (ipykernel)",
   "language": "python",
   "name": "python3"
  },
  "language_info": {
   "codemirror_mode": {
    "name": "ipython",
    "version": 3
   },
   "file_extension": ".py",
   "mimetype": "text/x-python",
   "name": "python",
   "nbconvert_exporter": "python",
   "pygments_lexer": "ipython3",
   "version": "3.11.4"
  }
 },
 "nbformat": 4,
 "nbformat_minor": 5
}
